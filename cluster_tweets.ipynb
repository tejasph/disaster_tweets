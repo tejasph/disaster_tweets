{
 "cells": [
  {
   "cell_type": "code",
   "execution_count": 1,
   "metadata": {},
   "outputs": [],
   "source": [
    "#Cluster Docs\n",
    "#The task here is whether we can cluster the tweets into meaningful categories\n",
    "# uses some concepts from vectorize_pca.ipynb\n",
    "\n",
    "#To Do:\n",
    "# filter out duplicate type statements\n",
    "# optimize DBSCAN\n",
    "# note: lots of similar tweets, this could bias the model\n",
    "# --> still wondering how to deal with this (remove if similarity between tweets is > x?)"
   ]
  },
  {
   "cell_type": "code",
   "execution_count": 2,
   "metadata": {},
   "outputs": [],
   "source": [
    "from sklearn.cluster import KMeans\n",
    "from sklearn.cluster import DBSCAN\n",
    "import spacy\n",
    "import pandas as pd\n",
    "import numpy as np\n",
    "import seaborn as sns"
   ]
  },
  {
   "cell_type": "code",
   "execution_count": 3,
   "metadata": {},
   "outputs": [],
   "source": [
    "train_df = pd.read_csv(\"data/processed_train.csv\")\n",
    "nlp = spacy.load(\"en_core_web_md\")"
   ]
  },
  {
   "cell_type": "code",
   "execution_count": 4,
   "metadata": {},
   "outputs": [],
   "source": [
    "train_df = train_df.drop(columns = ['keyword', 'location'])"
   ]
  },
  {
   "cell_type": "code",
   "execution_count": 5,
   "metadata": {},
   "outputs": [
    {
     "data": {
      "text/html": [
       "<div>\n",
       "<style scoped>\n",
       "    .dataframe tbody tr th:only-of-type {\n",
       "        vertical-align: middle;\n",
       "    }\n",
       "\n",
       "    .dataframe tbody tr th {\n",
       "        vertical-align: top;\n",
       "    }\n",
       "\n",
       "    .dataframe thead th {\n",
       "        text-align: right;\n",
       "    }\n",
       "</style>\n",
       "<table border=\"1\" class=\"dataframe\">\n",
       "  <thead>\n",
       "    <tr style=\"text-align: right;\">\n",
       "      <th></th>\n",
       "      <th>id</th>\n",
       "      <th>text</th>\n",
       "      <th>target</th>\n",
       "    </tr>\n",
       "  </thead>\n",
       "  <tbody>\n",
       "    <tr>\n",
       "      <th>0</th>\n",
       "      <td>1</td>\n",
       "      <td>Our Deeds are the Reason of this #earthquake M...</td>\n",
       "      <td>1</td>\n",
       "    </tr>\n",
       "    <tr>\n",
       "      <th>1</th>\n",
       "      <td>4</td>\n",
       "      <td>Forest fire near La Ronge Sask. Canada</td>\n",
       "      <td>1</td>\n",
       "    </tr>\n",
       "    <tr>\n",
       "      <th>2</th>\n",
       "      <td>5</td>\n",
       "      <td>All residents asked to 'shelter in place' are ...</td>\n",
       "      <td>1</td>\n",
       "    </tr>\n",
       "    <tr>\n",
       "      <th>3</th>\n",
       "      <td>6</td>\n",
       "      <td>13,000 people receive #wildfires evacuation or...</td>\n",
       "      <td>1</td>\n",
       "    </tr>\n",
       "    <tr>\n",
       "      <th>4</th>\n",
       "      <td>7</td>\n",
       "      <td>Just got sent this photo from Ruby #Alaska as ...</td>\n",
       "      <td>1</td>\n",
       "    </tr>\n",
       "  </tbody>\n",
       "</table>\n",
       "</div>"
      ],
      "text/plain": [
       "   id                                               text  target\n",
       "0   1  Our Deeds are the Reason of this #earthquake M...       1\n",
       "1   4             Forest fire near La Ronge Sask. Canada       1\n",
       "2   5  All residents asked to 'shelter in place' are ...       1\n",
       "3   6  13,000 people receive #wildfires evacuation or...       1\n",
       "4   7  Just got sent this photo from Ruby #Alaska as ...       1"
      ]
     },
     "execution_count": 5,
     "metadata": {},
     "output_type": "execute_result"
    }
   ],
   "source": [
    "train_df.head()"
   ]
  },
  {
   "cell_type": "code",
   "execution_count": 6,
   "metadata": {},
   "outputs": [],
   "source": [
    "def vectorize(item):\n",
    "    doc = nlp(item)\n",
    "    return doc.vector"
   ]
  },
  {
   "cell_type": "code",
   "execution_count": 7,
   "metadata": {},
   "outputs": [],
   "source": [
    "#Get document vectors\n",
    "train_vectorized = pd.DataFrame(np.vstack([vectorize(entry) for entry in train_df.text]))"
   ]
  },
  {
   "cell_type": "code",
   "execution_count": 8,
   "metadata": {},
   "outputs": [],
   "source": [
    "final_df = pd.concat([train_df[['id']], train_vectorized], axis = 1)"
   ]
  },
  {
   "cell_type": "code",
   "execution_count": 9,
   "metadata": {},
   "outputs": [
    {
     "data": {
      "text/html": [
       "<div>\n",
       "<style scoped>\n",
       "    .dataframe tbody tr th:only-of-type {\n",
       "        vertical-align: middle;\n",
       "    }\n",
       "\n",
       "    .dataframe tbody tr th {\n",
       "        vertical-align: top;\n",
       "    }\n",
       "\n",
       "    .dataframe thead th {\n",
       "        text-align: right;\n",
       "    }\n",
       "</style>\n",
       "<table border=\"1\" class=\"dataframe\">\n",
       "  <thead>\n",
       "    <tr style=\"text-align: right;\">\n",
       "      <th></th>\n",
       "      <th>id</th>\n",
       "      <th>0</th>\n",
       "      <th>1</th>\n",
       "      <th>2</th>\n",
       "      <th>3</th>\n",
       "      <th>4</th>\n",
       "      <th>5</th>\n",
       "      <th>6</th>\n",
       "      <th>7</th>\n",
       "      <th>8</th>\n",
       "      <th>...</th>\n",
       "      <th>290</th>\n",
       "      <th>291</th>\n",
       "      <th>292</th>\n",
       "      <th>293</th>\n",
       "      <th>294</th>\n",
       "      <th>295</th>\n",
       "      <th>296</th>\n",
       "      <th>297</th>\n",
       "      <th>298</th>\n",
       "      <th>299</th>\n",
       "    </tr>\n",
       "  </thead>\n",
       "  <tbody>\n",
       "    <tr>\n",
       "      <th>0</th>\n",
       "      <td>1</td>\n",
       "      <td>-0.278979</td>\n",
       "      <td>0.103926</td>\n",
       "      <td>-0.099896</td>\n",
       "      <td>-0.033250</td>\n",
       "      <td>0.006406</td>\n",
       "      <td>-0.127988</td>\n",
       "      <td>0.015576</td>\n",
       "      <td>0.162036</td>\n",
       "      <td>0.019861</td>\n",
       "      <td>...</td>\n",
       "      <td>-0.308163</td>\n",
       "      <td>0.127427</td>\n",
       "      <td>-0.153923</td>\n",
       "      <td>-0.059484</td>\n",
       "      <td>0.200914</td>\n",
       "      <td>-0.077234</td>\n",
       "      <td>-0.056179</td>\n",
       "      <td>0.045646</td>\n",
       "      <td>-0.063259</td>\n",
       "      <td>-0.056399</td>\n",
       "    </tr>\n",
       "    <tr>\n",
       "      <th>1</th>\n",
       "      <td>4</td>\n",
       "      <td>-0.064835</td>\n",
       "      <td>0.060354</td>\n",
       "      <td>-0.166393</td>\n",
       "      <td>-0.344203</td>\n",
       "      <td>0.306547</td>\n",
       "      <td>0.060459</td>\n",
       "      <td>0.205219</td>\n",
       "      <td>-0.072670</td>\n",
       "      <td>-0.099532</td>\n",
       "      <td>...</td>\n",
       "      <td>-0.063258</td>\n",
       "      <td>0.121803</td>\n",
       "      <td>0.005085</td>\n",
       "      <td>-0.031410</td>\n",
       "      <td>0.151826</td>\n",
       "      <td>0.067330</td>\n",
       "      <td>0.063014</td>\n",
       "      <td>-0.075697</td>\n",
       "      <td>-0.233015</td>\n",
       "      <td>0.096144</td>\n",
       "    </tr>\n",
       "    <tr>\n",
       "      <th>2</th>\n",
       "      <td>5</td>\n",
       "      <td>-0.024668</td>\n",
       "      <td>0.059286</td>\n",
       "      <td>-0.071322</td>\n",
       "      <td>-0.074969</td>\n",
       "      <td>0.103867</td>\n",
       "      <td>-0.124814</td>\n",
       "      <td>0.033703</td>\n",
       "      <td>-0.014304</td>\n",
       "      <td>-0.062268</td>\n",
       "      <td>...</td>\n",
       "      <td>-0.208227</td>\n",
       "      <td>0.020313</td>\n",
       "      <td>0.125149</td>\n",
       "      <td>-0.040904</td>\n",
       "      <td>-0.067651</td>\n",
       "      <td>-0.032820</td>\n",
       "      <td>-0.193037</td>\n",
       "      <td>-0.054479</td>\n",
       "      <td>0.056526</td>\n",
       "      <td>0.039146</td>\n",
       "    </tr>\n",
       "    <tr>\n",
       "      <th>3</th>\n",
       "      <td>6</td>\n",
       "      <td>-0.167660</td>\n",
       "      <td>0.244378</td>\n",
       "      <td>0.077987</td>\n",
       "      <td>-0.135558</td>\n",
       "      <td>-0.028106</td>\n",
       "      <td>-0.211794</td>\n",
       "      <td>-0.039319</td>\n",
       "      <td>0.010273</td>\n",
       "      <td>0.064539</td>\n",
       "      <td>...</td>\n",
       "      <td>-0.182993</td>\n",
       "      <td>0.181690</td>\n",
       "      <td>0.172492</td>\n",
       "      <td>-0.032437</td>\n",
       "      <td>-0.200355</td>\n",
       "      <td>-0.176960</td>\n",
       "      <td>-0.162615</td>\n",
       "      <td>-0.040300</td>\n",
       "      <td>0.026279</td>\n",
       "      <td>-0.030382</td>\n",
       "    </tr>\n",
       "    <tr>\n",
       "      <th>4</th>\n",
       "      <td>7</td>\n",
       "      <td>-0.068673</td>\n",
       "      <td>0.062337</td>\n",
       "      <td>0.030137</td>\n",
       "      <td>0.077085</td>\n",
       "      <td>0.084789</td>\n",
       "      <td>0.005437</td>\n",
       "      <td>-0.042100</td>\n",
       "      <td>-0.084338</td>\n",
       "      <td>-0.041983</td>\n",
       "      <td>...</td>\n",
       "      <td>-0.056272</td>\n",
       "      <td>0.148307</td>\n",
       "      <td>0.154113</td>\n",
       "      <td>0.114311</td>\n",
       "      <td>0.023254</td>\n",
       "      <td>-0.064449</td>\n",
       "      <td>-0.169256</td>\n",
       "      <td>-0.071676</td>\n",
       "      <td>-0.166943</td>\n",
       "      <td>0.135751</td>\n",
       "    </tr>\n",
       "    <tr>\n",
       "      <th>...</th>\n",
       "      <td>...</td>\n",
       "      <td>...</td>\n",
       "      <td>...</td>\n",
       "      <td>...</td>\n",
       "      <td>...</td>\n",
       "      <td>...</td>\n",
       "      <td>...</td>\n",
       "      <td>...</td>\n",
       "      <td>...</td>\n",
       "      <td>...</td>\n",
       "      <td>...</td>\n",
       "      <td>...</td>\n",
       "      <td>...</td>\n",
       "      <td>...</td>\n",
       "      <td>...</td>\n",
       "      <td>...</td>\n",
       "      <td>...</td>\n",
       "      <td>...</td>\n",
       "      <td>...</td>\n",
       "      <td>...</td>\n",
       "      <td>...</td>\n",
       "    </tr>\n",
       "    <tr>\n",
       "      <th>6965</th>\n",
       "      <td>10859</td>\n",
       "      <td>-0.186161</td>\n",
       "      <td>0.113815</td>\n",
       "      <td>0.094005</td>\n",
       "      <td>0.000995</td>\n",
       "      <td>0.010133</td>\n",
       "      <td>-0.139870</td>\n",
       "      <td>0.089990</td>\n",
       "      <td>0.093344</td>\n",
       "      <td>-0.056457</td>\n",
       "      <td>...</td>\n",
       "      <td>-0.163476</td>\n",
       "      <td>0.110591</td>\n",
       "      <td>0.000260</td>\n",
       "      <td>-0.013549</td>\n",
       "      <td>0.287260</td>\n",
       "      <td>0.039154</td>\n",
       "      <td>-0.060248</td>\n",
       "      <td>-0.174971</td>\n",
       "      <td>-0.055622</td>\n",
       "      <td>-0.070145</td>\n",
       "    </tr>\n",
       "    <tr>\n",
       "      <th>6966</th>\n",
       "      <td>10860</td>\n",
       "      <td>0.000344</td>\n",
       "      <td>0.181096</td>\n",
       "      <td>0.028255</td>\n",
       "      <td>-0.016016</td>\n",
       "      <td>0.085192</td>\n",
       "      <td>-0.114734</td>\n",
       "      <td>-0.020714</td>\n",
       "      <td>-0.187098</td>\n",
       "      <td>-0.013545</td>\n",
       "      <td>...</td>\n",
       "      <td>-0.192377</td>\n",
       "      <td>0.117305</td>\n",
       "      <td>0.130292</td>\n",
       "      <td>0.032662</td>\n",
       "      <td>0.147408</td>\n",
       "      <td>0.000271</td>\n",
       "      <td>-0.083110</td>\n",
       "      <td>0.088316</td>\n",
       "      <td>-0.067450</td>\n",
       "      <td>0.071719</td>\n",
       "    </tr>\n",
       "    <tr>\n",
       "      <th>6967</th>\n",
       "      <td>10862</td>\n",
       "      <td>-0.133278</td>\n",
       "      <td>0.247608</td>\n",
       "      <td>-0.079417</td>\n",
       "      <td>-0.030117</td>\n",
       "      <td>0.118461</td>\n",
       "      <td>-0.154476</td>\n",
       "      <td>-0.027068</td>\n",
       "      <td>-0.102124</td>\n",
       "      <td>0.146298</td>\n",
       "      <td>...</td>\n",
       "      <td>-0.073804</td>\n",
       "      <td>0.114880</td>\n",
       "      <td>-0.010113</td>\n",
       "      <td>-0.100306</td>\n",
       "      <td>-0.028117</td>\n",
       "      <td>-0.047617</td>\n",
       "      <td>-0.132302</td>\n",
       "      <td>-0.040492</td>\n",
       "      <td>-0.033955</td>\n",
       "      <td>0.165996</td>\n",
       "    </tr>\n",
       "    <tr>\n",
       "      <th>6968</th>\n",
       "      <td>10864</td>\n",
       "      <td>0.003865</td>\n",
       "      <td>0.157701</td>\n",
       "      <td>-0.186379</td>\n",
       "      <td>0.006686</td>\n",
       "      <td>0.086141</td>\n",
       "      <td>-0.030631</td>\n",
       "      <td>-0.011705</td>\n",
       "      <td>-0.118290</td>\n",
       "      <td>0.000729</td>\n",
       "      <td>...</td>\n",
       "      <td>-0.218744</td>\n",
       "      <td>0.054065</td>\n",
       "      <td>0.040499</td>\n",
       "      <td>-0.124812</td>\n",
       "      <td>0.061617</td>\n",
       "      <td>-0.020381</td>\n",
       "      <td>-0.027115</td>\n",
       "      <td>-0.014669</td>\n",
       "      <td>0.075943</td>\n",
       "      <td>0.227867</td>\n",
       "    </tr>\n",
       "    <tr>\n",
       "      <th>6969</th>\n",
       "      <td>10866</td>\n",
       "      <td>-0.213514</td>\n",
       "      <td>0.201950</td>\n",
       "      <td>0.022745</td>\n",
       "      <td>0.259420</td>\n",
       "      <td>-0.012029</td>\n",
       "      <td>-0.035083</td>\n",
       "      <td>-0.072354</td>\n",
       "      <td>-0.017389</td>\n",
       "      <td>0.006693</td>\n",
       "      <td>...</td>\n",
       "      <td>-0.236749</td>\n",
       "      <td>-0.020842</td>\n",
       "      <td>-0.092670</td>\n",
       "      <td>-0.040936</td>\n",
       "      <td>0.011513</td>\n",
       "      <td>-0.038390</td>\n",
       "      <td>-0.053347</td>\n",
       "      <td>-0.065419</td>\n",
       "      <td>0.060133</td>\n",
       "      <td>0.255060</td>\n",
       "    </tr>\n",
       "  </tbody>\n",
       "</table>\n",
       "<p>6970 rows × 301 columns</p>\n",
       "</div>"
      ],
      "text/plain": [
       "         id         0         1         2         3         4         5  \\\n",
       "0         1 -0.278979  0.103926 -0.099896 -0.033250  0.006406 -0.127988   \n",
       "1         4 -0.064835  0.060354 -0.166393 -0.344203  0.306547  0.060459   \n",
       "2         5 -0.024668  0.059286 -0.071322 -0.074969  0.103867 -0.124814   \n",
       "3         6 -0.167660  0.244378  0.077987 -0.135558 -0.028106 -0.211794   \n",
       "4         7 -0.068673  0.062337  0.030137  0.077085  0.084789  0.005437   \n",
       "...     ...       ...       ...       ...       ...       ...       ...   \n",
       "6965  10859 -0.186161  0.113815  0.094005  0.000995  0.010133 -0.139870   \n",
       "6966  10860  0.000344  0.181096  0.028255 -0.016016  0.085192 -0.114734   \n",
       "6967  10862 -0.133278  0.247608 -0.079417 -0.030117  0.118461 -0.154476   \n",
       "6968  10864  0.003865  0.157701 -0.186379  0.006686  0.086141 -0.030631   \n",
       "6969  10866 -0.213514  0.201950  0.022745  0.259420 -0.012029 -0.035083   \n",
       "\n",
       "             6         7         8  ...       290       291       292  \\\n",
       "0     0.015576  0.162036  0.019861  ... -0.308163  0.127427 -0.153923   \n",
       "1     0.205219 -0.072670 -0.099532  ... -0.063258  0.121803  0.005085   \n",
       "2     0.033703 -0.014304 -0.062268  ... -0.208227  0.020313  0.125149   \n",
       "3    -0.039319  0.010273  0.064539  ... -0.182993  0.181690  0.172492   \n",
       "4    -0.042100 -0.084338 -0.041983  ... -0.056272  0.148307  0.154113   \n",
       "...        ...       ...       ...  ...       ...       ...       ...   \n",
       "6965  0.089990  0.093344 -0.056457  ... -0.163476  0.110591  0.000260   \n",
       "6966 -0.020714 -0.187098 -0.013545  ... -0.192377  0.117305  0.130292   \n",
       "6967 -0.027068 -0.102124  0.146298  ... -0.073804  0.114880 -0.010113   \n",
       "6968 -0.011705 -0.118290  0.000729  ... -0.218744  0.054065  0.040499   \n",
       "6969 -0.072354 -0.017389  0.006693  ... -0.236749 -0.020842 -0.092670   \n",
       "\n",
       "           293       294       295       296       297       298       299  \n",
       "0    -0.059484  0.200914 -0.077234 -0.056179  0.045646 -0.063259 -0.056399  \n",
       "1    -0.031410  0.151826  0.067330  0.063014 -0.075697 -0.233015  0.096144  \n",
       "2    -0.040904 -0.067651 -0.032820 -0.193037 -0.054479  0.056526  0.039146  \n",
       "3    -0.032437 -0.200355 -0.176960 -0.162615 -0.040300  0.026279 -0.030382  \n",
       "4     0.114311  0.023254 -0.064449 -0.169256 -0.071676 -0.166943  0.135751  \n",
       "...        ...       ...       ...       ...       ...       ...       ...  \n",
       "6965 -0.013549  0.287260  0.039154 -0.060248 -0.174971 -0.055622 -0.070145  \n",
       "6966  0.032662  0.147408  0.000271 -0.083110  0.088316 -0.067450  0.071719  \n",
       "6967 -0.100306 -0.028117 -0.047617 -0.132302 -0.040492 -0.033955  0.165996  \n",
       "6968 -0.124812  0.061617 -0.020381 -0.027115 -0.014669  0.075943  0.227867  \n",
       "6969 -0.040936  0.011513 -0.038390 -0.053347 -0.065419  0.060133  0.255060  \n",
       "\n",
       "[6970 rows x 301 columns]"
      ]
     },
     "execution_count": 9,
     "metadata": {},
     "output_type": "execute_result"
    }
   ],
   "source": [
    "final_df"
   ]
  },
  {
   "cell_type": "code",
   "execution_count": 10,
   "metadata": {},
   "outputs": [],
   "source": [
    "kmeans = KMeans()"
   ]
  },
  {
   "cell_type": "code",
   "execution_count": 11,
   "metadata": {},
   "outputs": [
    {
     "data": {
      "text/plain": [
       "KMeans()"
      ]
     },
     "execution_count": 11,
     "metadata": {},
     "output_type": "execute_result"
    }
   ],
   "source": [
    "kmeans.fit(final_df.drop(columns = 'id'))"
   ]
  },
  {
   "cell_type": "code",
   "execution_count": 12,
   "metadata": {},
   "outputs": [
    {
     "data": {
      "text/plain": [
       "array([7, 6, 7, ..., 7, 1, 4], dtype=int32)"
      ]
     },
     "execution_count": 12,
     "metadata": {},
     "output_type": "execute_result"
    }
   ],
   "source": [
    "kmeans.labels_\n"
   ]
  },
  {
   "cell_type": "code",
   "execution_count": 13,
   "metadata": {},
   "outputs": [],
   "source": [
    "# we do get clusters, but we Scikit KMeans only does euclidean distance, while ideally, we want to use cosine similarity"
   ]
  },
  {
   "cell_type": "code",
   "execution_count": 14,
   "metadata": {},
   "outputs": [],
   "source": [
    "dbscan = DBSCAN(metric = 'cosine', eps = 0.1)"
   ]
  },
  {
   "cell_type": "code",
   "execution_count": 15,
   "metadata": {},
   "outputs": [
    {
     "data": {
      "text/plain": [
       "DBSCAN(eps=0.1, metric='cosine')"
      ]
     },
     "execution_count": 15,
     "metadata": {},
     "output_type": "execute_result"
    }
   ],
   "source": [
    "dbscan.fit(final_df.drop(columns= 'id'))"
   ]
  },
  {
   "cell_type": "code",
   "execution_count": 16,
   "metadata": {},
   "outputs": [],
   "source": [
    "cluster_map = pd.concat([final_df[['id']], pd.DataFrame(dbscan.labels_, columns = ['cluster'])], axis = 1)"
   ]
  },
  {
   "cell_type": "code",
   "execution_count": 17,
   "metadata": {},
   "outputs": [
    {
     "data": {
      "text/html": [
       "<div>\n",
       "<style scoped>\n",
       "    .dataframe tbody tr th:only-of-type {\n",
       "        vertical-align: middle;\n",
       "    }\n",
       "\n",
       "    .dataframe tbody tr th {\n",
       "        vertical-align: top;\n",
       "    }\n",
       "\n",
       "    .dataframe thead th {\n",
       "        text-align: right;\n",
       "    }\n",
       "</style>\n",
       "<table border=\"1\" class=\"dataframe\">\n",
       "  <thead>\n",
       "    <tr style=\"text-align: right;\">\n",
       "      <th></th>\n",
       "      <th>id</th>\n",
       "      <th>cluster</th>\n",
       "    </tr>\n",
       "  </thead>\n",
       "  <tbody>\n",
       "    <tr>\n",
       "      <th>0</th>\n",
       "      <td>1</td>\n",
       "      <td>0</td>\n",
       "    </tr>\n",
       "    <tr>\n",
       "      <th>1</th>\n",
       "      <td>4</td>\n",
       "      <td>-1</td>\n",
       "    </tr>\n",
       "    <tr>\n",
       "      <th>2</th>\n",
       "      <td>5</td>\n",
       "      <td>0</td>\n",
       "    </tr>\n",
       "    <tr>\n",
       "      <th>3</th>\n",
       "      <td>6</td>\n",
       "      <td>-1</td>\n",
       "    </tr>\n",
       "    <tr>\n",
       "      <th>4</th>\n",
       "      <td>7</td>\n",
       "      <td>-1</td>\n",
       "    </tr>\n",
       "  </tbody>\n",
       "</table>\n",
       "</div>"
      ],
      "text/plain": [
       "   id  cluster\n",
       "0   1        0\n",
       "1   4       -1\n",
       "2   5        0\n",
       "3   6       -1\n",
       "4   7       -1"
      ]
     },
     "execution_count": 17,
     "metadata": {},
     "output_type": "execute_result"
    }
   ],
   "source": [
    "cluster_map.head()"
   ]
  },
  {
   "cell_type": "code",
   "execution_count": null,
   "metadata": {},
   "outputs": [],
   "source": []
  },
  {
   "cell_type": "code",
   "execution_count": 18,
   "metadata": {},
   "outputs": [],
   "source": [
    "master_df = pd.merge(cluster_map, train_df)"
   ]
  },
  {
   "cell_type": "code",
   "execution_count": 19,
   "metadata": {},
   "outputs": [
    {
     "data": {
      "text/html": [
       "<div>\n",
       "<style scoped>\n",
       "    .dataframe tbody tr th:only-of-type {\n",
       "        vertical-align: middle;\n",
       "    }\n",
       "\n",
       "    .dataframe tbody tr th {\n",
       "        vertical-align: top;\n",
       "    }\n",
       "\n",
       "    .dataframe thead th {\n",
       "        text-align: right;\n",
       "    }\n",
       "</style>\n",
       "<table border=\"1\" class=\"dataframe\">\n",
       "  <thead>\n",
       "    <tr style=\"text-align: right;\">\n",
       "      <th></th>\n",
       "      <th>id</th>\n",
       "      <th>cluster</th>\n",
       "      <th>text</th>\n",
       "      <th>target</th>\n",
       "    </tr>\n",
       "  </thead>\n",
       "  <tbody>\n",
       "    <tr>\n",
       "      <th>0</th>\n",
       "      <td>1</td>\n",
       "      <td>0</td>\n",
       "      <td>Our Deeds are the Reason of this #earthquake M...</td>\n",
       "      <td>1</td>\n",
       "    </tr>\n",
       "    <tr>\n",
       "      <th>1</th>\n",
       "      <td>4</td>\n",
       "      <td>-1</td>\n",
       "      <td>Forest fire near La Ronge Sask. Canada</td>\n",
       "      <td>1</td>\n",
       "    </tr>\n",
       "    <tr>\n",
       "      <th>2</th>\n",
       "      <td>5</td>\n",
       "      <td>0</td>\n",
       "      <td>All residents asked to 'shelter in place' are ...</td>\n",
       "      <td>1</td>\n",
       "    </tr>\n",
       "    <tr>\n",
       "      <th>3</th>\n",
       "      <td>6</td>\n",
       "      <td>-1</td>\n",
       "      <td>13,000 people receive #wildfires evacuation or...</td>\n",
       "      <td>1</td>\n",
       "    </tr>\n",
       "    <tr>\n",
       "      <th>4</th>\n",
       "      <td>7</td>\n",
       "      <td>-1</td>\n",
       "      <td>Just got sent this photo from Ruby #Alaska as ...</td>\n",
       "      <td>1</td>\n",
       "    </tr>\n",
       "  </tbody>\n",
       "</table>\n",
       "</div>"
      ],
      "text/plain": [
       "   id  cluster                                               text  target\n",
       "0   1        0  Our Deeds are the Reason of this #earthquake M...       1\n",
       "1   4       -1             Forest fire near La Ronge Sask. Canada       1\n",
       "2   5        0  All residents asked to 'shelter in place' are ...       1\n",
       "3   6       -1  13,000 people receive #wildfires evacuation or...       1\n",
       "4   7       -1  Just got sent this photo from Ruby #Alaska as ...       1"
      ]
     },
     "execution_count": 19,
     "metadata": {},
     "output_type": "execute_result"
    }
   ],
   "source": [
    "master_df.head()"
   ]
  },
  {
   "cell_type": "code",
   "execution_count": 20,
   "metadata": {},
   "outputs": [
    {
     "data": {
      "text/html": [
       "<div>\n",
       "<style scoped>\n",
       "    .dataframe tbody tr th:only-of-type {\n",
       "        vertical-align: middle;\n",
       "    }\n",
       "\n",
       "    .dataframe tbody tr th {\n",
       "        vertical-align: top;\n",
       "    }\n",
       "\n",
       "    .dataframe thead th {\n",
       "        text-align: right;\n",
       "    }\n",
       "</style>\n",
       "<table border=\"1\" class=\"dataframe\">\n",
       "  <thead>\n",
       "    <tr style=\"text-align: right;\">\n",
       "      <th></th>\n",
       "      <th>id</th>\n",
       "      <th>cluster</th>\n",
       "      <th>text</th>\n",
       "      <th>target</th>\n",
       "    </tr>\n",
       "  </thead>\n",
       "  <tbody>\n",
       "    <tr>\n",
       "      <th>352</th>\n",
       "      <td>558</td>\n",
       "      <td>5</td>\n",
       "      <td>Los Angeles Times: Arson suspect linked to 30 ...</td>\n",
       "      <td>1</td>\n",
       "    </tr>\n",
       "    <tr>\n",
       "      <th>357</th>\n",
       "      <td>565</td>\n",
       "      <td>5</td>\n",
       "      <td>Arson suspect linked to 30 fires caught in Nor...</td>\n",
       "      <td>1</td>\n",
       "    </tr>\n",
       "    <tr>\n",
       "      <th>364</th>\n",
       "      <td>575</td>\n",
       "      <td>5</td>\n",
       "      <td>RelaxInPR: miprv: RT latimes: Arson suspect li...</td>\n",
       "      <td>1</td>\n",
       "    </tr>\n",
       "    <tr>\n",
       "      <th>370</th>\n",
       "      <td>588</td>\n",
       "      <td>5</td>\n",
       "      <td>Arson suspect linked to 30 fires caught in Nor...</td>\n",
       "      <td>1</td>\n",
       "    </tr>\n",
       "    <tr>\n",
       "      <th>372</th>\n",
       "      <td>592</td>\n",
       "      <td>5</td>\n",
       "      <td>Arson suspect linked to 30 fires caught in Nor...</td>\n",
       "      <td>1</td>\n",
       "    </tr>\n",
       "  </tbody>\n",
       "</table>\n",
       "</div>"
      ],
      "text/plain": [
       "      id  cluster                                               text  target\n",
       "352  558        5  Los Angeles Times: Arson suspect linked to 30 ...       1\n",
       "357  565        5  Arson suspect linked to 30 fires caught in Nor...       1\n",
       "364  575        5  RelaxInPR: miprv: RT latimes: Arson suspect li...       1\n",
       "370  588        5  Arson suspect linked to 30 fires caught in Nor...       1\n",
       "372  592        5  Arson suspect linked to 30 fires caught in Nor...       1"
      ]
     },
     "execution_count": 20,
     "metadata": {},
     "output_type": "execute_result"
    }
   ],
   "source": [
    "master_df[master_df['cluster'] == 5]\n",
    "# this is really interesting because there seems to be duplicates, and yet target seems to be inconsistent"
   ]
  },
  {
   "cell_type": "code",
   "execution_count": 21,
   "metadata": {},
   "outputs": [
    {
     "data": {
      "text/plain": [
       "['Los Angeles Times: Arson suspect linked to 30 fires caught in Northern ... -   #NewsInTweets',\n",
       " 'Arson suspect linked to 30 fires caught in Northern California',\n",
       " 'RelaxInPR: miprv: RT latimes: Arson suspect linked to 30 fires caught in Northern California',\n",
       " 'Arson suspect linked to 30 fires caught in Northern California   (via @latimes)',\n",
       " 'Arson suspect linked to 30 fires caught in Northern California - Los Angeles Times']"
      ]
     },
     "execution_count": 21,
     "metadata": {},
     "output_type": "execute_result"
    }
   ],
   "source": [
    "list(master_df[master_df['cluster'] == 5].text)"
   ]
  },
  {
   "cell_type": "code",
   "execution_count": 22,
   "metadata": {},
   "outputs": [
    {
     "data": {
      "text/html": [
       "<div>\n",
       "<style scoped>\n",
       "    .dataframe tbody tr th:only-of-type {\n",
       "        vertical-align: middle;\n",
       "    }\n",
       "\n",
       "    .dataframe tbody tr th {\n",
       "        vertical-align: top;\n",
       "    }\n",
       "\n",
       "    .dataframe thead th {\n",
       "        text-align: right;\n",
       "    }\n",
       "</style>\n",
       "<table border=\"1\" class=\"dataframe\">\n",
       "  <thead>\n",
       "    <tr style=\"text-align: right;\">\n",
       "      <th></th>\n",
       "      <th>id</th>\n",
       "      <th>text</th>\n",
       "      <th>target</th>\n",
       "    </tr>\n",
       "  </thead>\n",
       "  <tbody>\n",
       "    <tr>\n",
       "      <th>224</th>\n",
       "      <td>349</td>\n",
       "      <td>U.S National Park Services Tonto National Fore...</td>\n",
       "      <td>0</td>\n",
       "    </tr>\n",
       "    <tr>\n",
       "      <th>238</th>\n",
       "      <td>381</td>\n",
       "      <td>Stop the Annihilation of the Salt River Wild H...</td>\n",
       "      <td>1</td>\n",
       "    </tr>\n",
       "  </tbody>\n",
       "</table>\n",
       "</div>"
      ],
      "text/plain": [
       "      id                                               text  target\n",
       "224  349  U.S National Park Services Tonto National Fore...       0\n",
       "238  381  Stop the Annihilation of the Salt River Wild H...       1"
      ]
     },
     "execution_count": 22,
     "metadata": {},
     "output_type": "execute_result"
    }
   ],
   "source": [
    "# to test for above, let's take a look at the original dataframe (confirmed in the original--> need to remove duplicates then)\n",
    "train_df[train_df['id'].isin([349,355, 356, 360, 370, 381, 384, 393, 394])]"
   ]
  },
  {
   "cell_type": "code",
   "execution_count": 23,
   "metadata": {},
   "outputs": [
    {
     "data": {
      "text/plain": [
       "['Los Angeles Times: Arson suspect linked to 30 fires caught in Northern ... -   #NewsInTweets',\n",
       " 'Arson suspect linked to 30 fires caught in Northern California',\n",
       " 'RelaxInPR: miprv: RT latimes: Arson suspect linked to 30 fires caught in Northern California',\n",
       " 'Arson suspect linked to 30 fires caught in Northern California   (via @latimes)',\n",
       " 'Arson suspect linked to 30 fires caught in Northern California - Los Angeles Times']"
      ]
     },
     "execution_count": 23,
     "metadata": {},
     "output_type": "execute_result"
    }
   ],
   "source": [
    "list(master_df[master_df['cluster'] == 5].text)"
   ]
  },
  {
   "cell_type": "markdown",
   "metadata": {},
   "source": [
    "Interestingly, everything from this cluster is the same tweet, but just from a different url. Need to be able to filter these out with some sort of rule"
   ]
  },
  {
   "cell_type": "code",
   "execution_count": 63,
   "metadata": {},
   "outputs": [],
   "source": [
    "# Want to see how the number of clusters changes with change in eps (also get cluster sizes)\n",
    "def cluster_text(df, eps, results, min_pt = 5):\n",
    "    \n",
    "    # Initiate DBSCAN using cosine distance for text\n",
    "    dbscan = DBSCAN(metric = 'cosine', eps = eps, min_samples = min_pt)\n",
    "    dbscan.fit(df.drop(columns= 'id'))\n",
    "    \n",
    "    # convert labels to a dataframe\n",
    "    cluster_df = pd.DataFrame(dbscan.labels_, columns = ['cluster'])\n",
    "    \n",
    "    # isolate rows that don't belong to a cluster --> considered outliers\n",
    "    outlier_cluster = cluster_df[cluster_df['cluster']== -1]\n",
    "\n",
    "    # update dictionary to capture the number of outliers in each trial\n",
    "    results['outlier_num'].append(len(outlier_cluster))\n",
    "    \n",
    "    # get the cluster counts\n",
    "    cluster_counts = cluster_df.groupby('cluster').size()# gets counts for each cluster\n",
    "    \n",
    "    # cluster_counts.groupby('cluster').size()\n",
    "    return cluster_counts\n"
   ]
  },
  {
   "cell_type": "code",
   "execution_count": 64,
   "metadata": {},
   "outputs": [],
   "source": [
    "# cluster_text(final_df,0.1)"
   ]
  },
  {
   "cell_type": "code",
   "execution_count": null,
   "metadata": {},
   "outputs": [],
   "source": []
  },
  {
   "cell_type": "code",
   "execution_count": null,
   "metadata": {},
   "outputs": [],
   "source": []
  },
  {
   "cell_type": "markdown",
   "metadata": {},
   "source": [
    "One of the question is what min pt value should we use. This should be made from domain knowledge. My thinking is that if we make the min value too small then this could give rise to having clusters of \"duplicate\" tweets. So maybe we need to up that. First lets scan over a bunch of eps and see if we can address the min point problem after"
   ]
  },
  {
   "cell_type": "code",
   "execution_count": null,
   "metadata": {},
   "outputs": [],
   "source": []
  },
  {
   "cell_type": "code",
   "execution_count": 65,
   "metadata": {},
   "outputs": [],
   "source": [
    "# Initate dictionary to capture results\n",
    "result_dict = {'eps':[], 'cluster_amt':[], 'outlier_num': []}\n",
    "\n",
    "# initiate eps space to crawl over\n",
    "eps_space = list(np.linspace(0.01,1, num = 30))\n",
    "\n",
    "# loop over each eps value\n",
    "for value in eps_space:\n",
    "    \n",
    "    cluster_counts = cluster_text(final_df, value, result_dict)\n",
    "    result_dict['eps'].append(value)\n",
    "    result_dict['cluster_amt'].append(len(cluster_counts))"
   ]
  },
  {
   "cell_type": "code",
   "execution_count": 66,
   "metadata": {},
   "outputs": [],
   "source": [
    "results = pd.DataFrame(result_dict).head(10)\n",
    "results['percent_outlier'] = results['outlier_num']/ len(final_df) "
   ]
  },
  {
   "cell_type": "code",
   "execution_count": 67,
   "metadata": {},
   "outputs": [
    {
     "data": {
      "text/html": [
       "<div>\n",
       "<style scoped>\n",
       "    .dataframe tbody tr th:only-of-type {\n",
       "        vertical-align: middle;\n",
       "    }\n",
       "\n",
       "    .dataframe tbody tr th {\n",
       "        vertical-align: top;\n",
       "    }\n",
       "\n",
       "    .dataframe thead th {\n",
       "        text-align: right;\n",
       "    }\n",
       "</style>\n",
       "<table border=\"1\" class=\"dataframe\">\n",
       "  <thead>\n",
       "    <tr style=\"text-align: right;\">\n",
       "      <th></th>\n",
       "      <th>eps</th>\n",
       "      <th>cluster_amt</th>\n",
       "      <th>outlier_num</th>\n",
       "      <th>percent_outlier</th>\n",
       "    </tr>\n",
       "  </thead>\n",
       "  <tbody>\n",
       "    <tr>\n",
       "      <th>0</th>\n",
       "      <td>0.010000</td>\n",
       "      <td>9</td>\n",
       "      <td>6915</td>\n",
       "      <td>0.992109</td>\n",
       "    </tr>\n",
       "    <tr>\n",
       "      <th>1</th>\n",
       "      <td>0.044138</td>\n",
       "      <td>29</td>\n",
       "      <td>6332</td>\n",
       "      <td>0.908465</td>\n",
       "    </tr>\n",
       "    <tr>\n",
       "      <th>2</th>\n",
       "      <td>0.078276</td>\n",
       "      <td>42</td>\n",
       "      <td>4193</td>\n",
       "      <td>0.601578</td>\n",
       "    </tr>\n",
       "    <tr>\n",
       "      <th>3</th>\n",
       "      <td>0.112414</td>\n",
       "      <td>33</td>\n",
       "      <td>2508</td>\n",
       "      <td>0.359828</td>\n",
       "    </tr>\n",
       "    <tr>\n",
       "      <th>4</th>\n",
       "      <td>0.146552</td>\n",
       "      <td>16</td>\n",
       "      <td>1365</td>\n",
       "      <td>0.195839</td>\n",
       "    </tr>\n",
       "    <tr>\n",
       "      <th>5</th>\n",
       "      <td>0.180690</td>\n",
       "      <td>13</td>\n",
       "      <td>714</td>\n",
       "      <td>0.102439</td>\n",
       "    </tr>\n",
       "    <tr>\n",
       "      <th>6</th>\n",
       "      <td>0.214828</td>\n",
       "      <td>6</td>\n",
       "      <td>345</td>\n",
       "      <td>0.049498</td>\n",
       "    </tr>\n",
       "    <tr>\n",
       "      <th>7</th>\n",
       "      <td>0.248966</td>\n",
       "      <td>2</td>\n",
       "      <td>173</td>\n",
       "      <td>0.024821</td>\n",
       "    </tr>\n",
       "    <tr>\n",
       "      <th>8</th>\n",
       "      <td>0.283103</td>\n",
       "      <td>2</td>\n",
       "      <td>83</td>\n",
       "      <td>0.011908</td>\n",
       "    </tr>\n",
       "    <tr>\n",
       "      <th>9</th>\n",
       "      <td>0.317241</td>\n",
       "      <td>2</td>\n",
       "      <td>45</td>\n",
       "      <td>0.006456</td>\n",
       "    </tr>\n",
       "  </tbody>\n",
       "</table>\n",
       "</div>"
      ],
      "text/plain": [
       "        eps  cluster_amt  outlier_num  percent_outlier\n",
       "0  0.010000            9         6915         0.992109\n",
       "1  0.044138           29         6332         0.908465\n",
       "2  0.078276           42         4193         0.601578\n",
       "3  0.112414           33         2508         0.359828\n",
       "4  0.146552           16         1365         0.195839\n",
       "5  0.180690           13          714         0.102439\n",
       "6  0.214828            6          345         0.049498\n",
       "7  0.248966            2          173         0.024821\n",
       "8  0.283103            2           83         0.011908\n",
       "9  0.317241            2           45         0.006456"
      ]
     },
     "execution_count": 67,
     "metadata": {},
     "output_type": "execute_result"
    }
   ],
   "source": [
    "results.head(10)"
   ]
  },
  {
   "cell_type": "markdown",
   "metadata": {},
   "source": []
  },
  {
   "cell_type": "code",
   "execution_count": 68,
   "metadata": {},
   "outputs": [
    {
     "data": {
      "text/plain": [
       "<matplotlib.axes._subplots.AxesSubplot at 0x7fab88f10b90>"
      ]
     },
     "execution_count": 68,
     "metadata": {},
     "output_type": "execute_result"
    },
    {
     "data": {
      "image/png": "[encoded data removed]",
      "text/plain": [
       "<Figure size 432x288 with 1 Axes>"
      ]
     },
     "metadata": {
      "needs_background": "light"
     },
     "output_type": "display_data"
    }
   ],
   "source": [
    "sns.lineplot(data = pd.DataFrame(result_dict), x = 'eps', y = 'cluster_amt')"
   ]
  },
  {
   "cell_type": "code",
   "execution_count": 69,
   "metadata": {},
   "outputs": [
    {
     "data": {
      "text/plain": [
       "<matplotlib.axes._subplots.AxesSubplot at 0x7fab9f37d990>"
      ]
     },
     "execution_count": 69,
     "metadata": {},
     "output_type": "execute_result"
    },
    {
     "data": {
      "image/png": "[encoded data removed]",
      "text/plain": [
       "<Figure size 432x288 with 1 Axes>"
      ]
     },
     "metadata": {
      "needs_background": "light"
     },
     "output_type": "display_data"
    }
   ],
   "source": [
    "sns.lineplot(data = pd.DataFrame(result_dict), x = 'eps', y = 'outlier_num')"
   ]
  },
  {
   "cell_type": "markdown",
   "metadata": {},
   "source": [
    "eps values of 0.21,  and 0.24 are the most interesting to me so I want to take a closer look at those."
   ]
  },
  {
   "cell_type": "code",
   "execution_count": 45,
   "metadata": {},
   "outputs": [],
   "source": [
    "def elaborate_dbscan(df, eps, min_pt = 5):\n",
    "    \n",
    "    # Initiate DBSCAN using cosine distance for text\n",
    "    dbscan = DBSCAN(metric = 'cosine', eps = eps, min_samples = min_pt)\n",
    "    dbscan.fit(df.drop(columns= 'id'))\n",
    "    \n",
    "    # convert labels to a dataframe\n",
    "    cluster_df = pd.DataFrame(dbscan.labels_, columns = ['cluster'])\n",
    "    \n",
    "    # get the cluster counts\n",
    "#     cluster_counts = cluster_df.groupby('cluster').size()# gets counts for each cluster\n",
    "    \n",
    "    # cluster_counts.groupby('cluster').size()\n",
    "    return cluster_df"
   ]
  },
  {
   "cell_type": "code",
   "execution_count": 48,
   "metadata": {},
   "outputs": [],
   "source": [
    "eps_2148 = elaborate_dbscan(final_df, eps = 0.2148)"
   ]
  },
  {
   "cell_type": "code",
   "execution_count": 49,
   "metadata": {},
   "outputs": [
    {
     "data": {
      "text/plain": [
       "cluster\n",
       "-1     346\n",
       " 0    6590\n",
       " 1      19\n",
       " 2       5\n",
       " 3       5\n",
       " 4       5\n",
       "dtype: int64"
      ]
     },
     "execution_count": 49,
     "metadata": {},
     "output_type": "execute_result"
    }
   ],
   "source": [
    "eps_2148.groupby('cluster').size()"
   ]
  },
  {
   "cell_type": "code",
   "execution_count": 77,
   "metadata": {},
   "outputs": [],
   "source": [
    "mapped_df = pd.concat([train_df, eps_2148], axis = 1)"
   ]
  },
  {
   "cell_type": "code",
   "execution_count": 80,
   "metadata": {},
   "outputs": [
    {
     "data": {
      "text/html": [
       "<div>\n",
       "<style scoped>\n",
       "    .dataframe tbody tr th:only-of-type {\n",
       "        vertical-align: middle;\n",
       "    }\n",
       "\n",
       "    .dataframe tbody tr th {\n",
       "        vertical-align: top;\n",
       "    }\n",
       "\n",
       "    .dataframe thead th {\n",
       "        text-align: right;\n",
       "    }\n",
       "</style>\n",
       "<table border=\"1\" class=\"dataframe\">\n",
       "  <thead>\n",
       "    <tr style=\"text-align: right;\">\n",
       "      <th></th>\n",
       "      <th>id</th>\n",
       "      <th>text</th>\n",
       "      <th>target</th>\n",
       "      <th>cluster</th>\n",
       "    </tr>\n",
       "  </thead>\n",
       "  <tbody>\n",
       "    <tr>\n",
       "      <th>2524</th>\n",
       "      <td>3848</td>\n",
       "      <td>Ignition Knock (Detonation) Sensor-Senso Stand...</td>\n",
       "      <td>0</td>\n",
       "      <td>1</td>\n",
       "    </tr>\n",
       "    <tr>\n",
       "      <th>2525</th>\n",
       "      <td>3849</td>\n",
       "      <td>Ignition Knock (Detonation) Sensor Connector-C...</td>\n",
       "      <td>0</td>\n",
       "      <td>1</td>\n",
       "    </tr>\n",
       "    <tr>\n",
       "      <th>2526</th>\n",
       "      <td>3850</td>\n",
       "      <td>Ignition Knock (Detonation) Sensor-Senso Stand...</td>\n",
       "      <td>0</td>\n",
       "      <td>1</td>\n",
       "    </tr>\n",
       "    <tr>\n",
       "      <th>2527</th>\n",
       "      <td>3851</td>\n",
       "      <td>Ignition Knock (Detonation) Sensor-Senso Stand...</td>\n",
       "      <td>0</td>\n",
       "      <td>1</td>\n",
       "    </tr>\n",
       "    <tr>\n",
       "      <th>2528</th>\n",
       "      <td>3853</td>\n",
       "      <td>Ignition Knock (Detonation) Sensor-Senso Stand...</td>\n",
       "      <td>1</td>\n",
       "      <td>1</td>\n",
       "    </tr>\n",
       "    <tr>\n",
       "      <th>2529</th>\n",
       "      <td>3855</td>\n",
       "      <td>Dorman 917-033 Ignition Knock (Detonation) Sen...</td>\n",
       "      <td>1</td>\n",
       "      <td>1</td>\n",
       "    </tr>\n",
       "    <tr>\n",
       "      <th>2533</th>\n",
       "      <td>3860</td>\n",
       "      <td>Ignition Knock (Detonation) Sensor-Senso fits ...</td>\n",
       "      <td>1</td>\n",
       "      <td>1</td>\n",
       "    </tr>\n",
       "    <tr>\n",
       "      <th>2534</th>\n",
       "      <td>3862</td>\n",
       "      <td>Ignition Knock (Detonation) Sensor-KNOCK SENSO...</td>\n",
       "      <td>0</td>\n",
       "      <td>1</td>\n",
       "    </tr>\n",
       "    <tr>\n",
       "      <th>2535</th>\n",
       "      <td>3864</td>\n",
       "      <td>Ignition Knock (Detonation) Sensor Connector-C...</td>\n",
       "      <td>0</td>\n",
       "      <td>1</td>\n",
       "    </tr>\n",
       "    <tr>\n",
       "      <th>2536</th>\n",
       "      <td>3866</td>\n",
       "      <td>Ignition Knock (Detonation) Sensor-Senso BECK/...</td>\n",
       "      <td>1</td>\n",
       "      <td>1</td>\n",
       "    </tr>\n",
       "    <tr>\n",
       "      <th>2538</th>\n",
       "      <td>3869</td>\n",
       "      <td>New SMP Ignition Knock (Detonation) Sensor KS315</td>\n",
       "      <td>0</td>\n",
       "      <td>1</td>\n",
       "    </tr>\n",
       "    <tr>\n",
       "      <th>2539</th>\n",
       "      <td>3870</td>\n",
       "      <td>Ignition Knock (Detonation) Sensor-Senso Stand...</td>\n",
       "      <td>0</td>\n",
       "      <td>1</td>\n",
       "    </tr>\n",
       "    <tr>\n",
       "      <th>2541</th>\n",
       "      <td>3874</td>\n",
       "      <td>Ignition Knock (Detonation) Sensor-Senso BECK/...</td>\n",
       "      <td>0</td>\n",
       "      <td>1</td>\n",
       "    </tr>\n",
       "    <tr>\n",
       "      <th>2542</th>\n",
       "      <td>3875</td>\n",
       "      <td>Ignition Knock (Detonation) Sensor ACDelco GM ...</td>\n",
       "      <td>0</td>\n",
       "      <td>1</td>\n",
       "    </tr>\n",
       "    <tr>\n",
       "      <th>2546</th>\n",
       "      <td>3887</td>\n",
       "      <td>Ignition Knock (Detonation) Sensor ACDelco GM ...</td>\n",
       "      <td>0</td>\n",
       "      <td>1</td>\n",
       "    </tr>\n",
       "    <tr>\n",
       "      <th>2547</th>\n",
       "      <td>3888</td>\n",
       "      <td>Ignition Knock (Detonation) Sensor-Senso Stand...</td>\n",
       "      <td>0</td>\n",
       "      <td>1</td>\n",
       "    </tr>\n",
       "    <tr>\n",
       "      <th>2548</th>\n",
       "      <td>3892</td>\n",
       "      <td>Ignition Knock (Detonation) Sensor Connector-C...</td>\n",
       "      <td>0</td>\n",
       "      <td>1</td>\n",
       "    </tr>\n",
       "    <tr>\n",
       "      <th>2551</th>\n",
       "      <td>3896</td>\n",
       "      <td>Ignition Knock (Detonation) Sensor-Senso Stand...</td>\n",
       "      <td>0</td>\n",
       "      <td>1</td>\n",
       "    </tr>\n",
       "    <tr>\n",
       "      <th>2552</th>\n",
       "      <td>3897</td>\n",
       "      <td>Ignition Knock (Detonation) Sensor-Senso Stand...</td>\n",
       "      <td>0</td>\n",
       "      <td>1</td>\n",
       "    </tr>\n",
       "  </tbody>\n",
       "</table>\n",
       "</div>"
      ],
      "text/plain": [
       "        id                                               text  target  cluster\n",
       "2524  3848  Ignition Knock (Detonation) Sensor-Senso Stand...       0        1\n",
       "2525  3849  Ignition Knock (Detonation) Sensor Connector-C...       0        1\n",
       "2526  3850  Ignition Knock (Detonation) Sensor-Senso Stand...       0        1\n",
       "2527  3851  Ignition Knock (Detonation) Sensor-Senso Stand...       0        1\n",
       "2528  3853  Ignition Knock (Detonation) Sensor-Senso Stand...       1        1\n",
       "2529  3855  Dorman 917-033 Ignition Knock (Detonation) Sen...       1        1\n",
       "2533  3860  Ignition Knock (Detonation) Sensor-Senso fits ...       1        1\n",
       "2534  3862  Ignition Knock (Detonation) Sensor-KNOCK SENSO...       0        1\n",
       "2535  3864  Ignition Knock (Detonation) Sensor Connector-C...       0        1\n",
       "2536  3866  Ignition Knock (Detonation) Sensor-Senso BECK/...       1        1\n",
       "2538  3869   New SMP Ignition Knock (Detonation) Sensor KS315       0        1\n",
       "2539  3870  Ignition Knock (Detonation) Sensor-Senso Stand...       0        1\n",
       "2541  3874  Ignition Knock (Detonation) Sensor-Senso BECK/...       0        1\n",
       "2542  3875  Ignition Knock (Detonation) Sensor ACDelco GM ...       0        1\n",
       "2546  3887  Ignition Knock (Detonation) Sensor ACDelco GM ...       0        1\n",
       "2547  3888  Ignition Knock (Detonation) Sensor-Senso Stand...       0        1\n",
       "2548  3892  Ignition Knock (Detonation) Sensor Connector-C...       0        1\n",
       "2551  3896  Ignition Knock (Detonation) Sensor-Senso Stand...       0        1\n",
       "2552  3897  Ignition Knock (Detonation) Sensor-Senso Stand...       0        1"
      ]
     },
     "execution_count": 80,
     "metadata": {},
     "output_type": "execute_result"
    }
   ],
   "source": [
    "# This cluster shows \n",
    "mapped_df[mapped_df['cluster'] == 1]"
   ]
  },
  {
   "cell_type": "code",
   "execution_count": 81,
   "metadata": {},
   "outputs": [
    {
     "data": {
      "text/plain": [
       "['Ignition Knock (Detonation) Sensor-Senso Standard fits 03-08 Mazda 6 3.0L-V6',\n",
       " 'Ignition Knock (Detonation) Sensor Connector-Connecto MOTORCRAFT WPT-994',\n",
       " 'Ignition Knock (Detonation) Sensor-Senso Standard KS161',\n",
       " 'Ignition Knock (Detonation) Sensor-Senso Standard KS57',\n",
       " 'Ignition Knock (Detonation) Sensor-Senso Standard KS94',\n",
       " 'Dorman 917-033 Ignition Knock (Detonation) Sensor Connector',\n",
       " 'Ignition Knock (Detonation) Sensor-Senso fits 01-06 BMW 325Ci 2.5L-L6',\n",
       " 'Ignition Knock (Detonation) Sensor-KNOCK SENSOR Delphi AS10004',\n",
       " 'Ignition Knock (Detonation) Sensor Connector-Connecto MOTORCRAFT WPT-410',\n",
       " 'Ignition Knock (Detonation) Sensor-Senso BECK/ARNLEY 158-0853',\n",
       " 'New SMP Ignition Knock (Detonation) Sensor KS315',\n",
       " 'Ignition Knock (Detonation) Sensor-Senso Standard KS100',\n",
       " 'Ignition Knock (Detonation) Sensor-Senso BECK/ARNLEY 158-1017',\n",
       " 'Ignition Knock (Detonation) Sensor ACDelco GM Original Equipment 213-924',\n",
       " 'Ignition Knock (Detonation) Sensor ACDelco GM Original Equipment 213-4678',\n",
       " 'Ignition Knock (Detonation) Sensor-Senso Standard fits 02-06 Acura RSX 2.0L-L4',\n",
       " 'Ignition Knock (Detonation) Sensor Connector-Connecto Dorman 917-141',\n",
       " 'Ignition Knock (Detonation) Sensor-Senso Standard fits 97-98 Ford F-250 4.6L-V8',\n",
       " 'Ignition Knock (Detonation) Sensor-Senso Standard KS111']"
      ]
     },
     "execution_count": 81,
     "metadata": {},
     "output_type": "execute_result"
    }
   ],
   "source": [
    "list(mapped_df[mapped_df['cluster'] == 1].text) # none of these tweets make sense, although maybe detonation is a trigger word"
   ]
  },
  {
   "cell_type": "code",
   "execution_count": 82,
   "metadata": {},
   "outputs": [
    {
     "data": {
      "text/html": [
       "<div>\n",
       "<style scoped>\n",
       "    .dataframe tbody tr th:only-of-type {\n",
       "        vertical-align: middle;\n",
       "    }\n",
       "\n",
       "    .dataframe tbody tr th {\n",
       "        vertical-align: top;\n",
       "    }\n",
       "\n",
       "    .dataframe thead th {\n",
       "        text-align: right;\n",
       "    }\n",
       "</style>\n",
       "<table border=\"1\" class=\"dataframe\">\n",
       "  <thead>\n",
       "    <tr style=\"text-align: right;\">\n",
       "      <th></th>\n",
       "      <th>id</th>\n",
       "      <th>text</th>\n",
       "      <th>target</th>\n",
       "      <th>cluster</th>\n",
       "    </tr>\n",
       "  </thead>\n",
       "  <tbody>\n",
       "    <tr>\n",
       "      <th>4760</th>\n",
       "      <td>7306</td>\n",
       "      <td>US Navy Sidelines 3 Newest Subs -   DefenseNew...</td>\n",
       "      <td>1</td>\n",
       "      <td>2</td>\n",
       "    </tr>\n",
       "    <tr>\n",
       "      <th>4762</th>\n",
       "      <td>7309</td>\n",
       "      <td>US Navy Sidelines 3 Newest Subs</td>\n",
       "      <td>0</td>\n",
       "      <td>2</td>\n",
       "    </tr>\n",
       "    <tr>\n",
       "      <th>4775</th>\n",
       "      <td>7326</td>\n",
       "      <td>Navy sidelines 3 newest subs</td>\n",
       "      <td>0</td>\n",
       "      <td>2</td>\n",
       "    </tr>\n",
       "    <tr>\n",
       "      <th>4776</th>\n",
       "      <td>7328</td>\n",
       "      <td>US Navy Sidelines 3 Newest #Subs</td>\n",
       "      <td>0</td>\n",
       "      <td>2</td>\n",
       "    </tr>\n",
       "    <tr>\n",
       "      <th>4787</th>\n",
       "      <td>7343</td>\n",
       "      <td>HamptonRoadsFor.me US Navy Sidelines 3 Newest ...</td>\n",
       "      <td>0</td>\n",
       "      <td>2</td>\n",
       "    </tr>\n",
       "  </tbody>\n",
       "</table>\n",
       "</div>"
      ],
      "text/plain": [
       "        id                                               text  target  cluster\n",
       "4760  7306  US Navy Sidelines 3 Newest Subs -   DefenseNew...       1        2\n",
       "4762  7309                    US Navy Sidelines 3 Newest Subs       0        2\n",
       "4775  7326                       Navy sidelines 3 newest subs       0        2\n",
       "4776  7328                   US Navy Sidelines 3 Newest #Subs       0        2\n",
       "4787  7343  HamptonRoadsFor.me US Navy Sidelines 3 Newest ...       0        2"
      ]
     },
     "execution_count": 82,
     "metadata": {},
     "output_type": "execute_result"
    }
   ],
   "source": [
    "mapped_df[mapped_df['cluster'] == 2]"
   ]
  },
  {
   "cell_type": "code",
   "execution_count": 83,
   "metadata": {},
   "outputs": [
    {
     "data": {
      "text/plain": [
       "['US Navy Sidelines 3 Newest Subs -   DefenseNews.comUS Navy Sidelines 3 Newest SubsD...   #navy',\n",
       " 'US Navy Sidelines 3 Newest Subs',\n",
       " 'Navy sidelines 3 newest subs',\n",
       " 'US Navy Sidelines 3 Newest #Subs',\n",
       " 'HamptonRoadsFor.me US Navy Sidelines 3 Newest Subs -']"
      ]
     },
     "execution_count": 83,
     "metadata": {},
     "output_type": "execute_result"
    }
   ],
   "source": [
    "list(mapped_df[mapped_df['cluster'] == 2].text)"
   ]
  },
  {
   "cell_type": "code",
   "execution_count": 84,
   "metadata": {},
   "outputs": [
    {
     "data": {
      "text/html": [
       "<div>\n",
       "<style scoped>\n",
       "    .dataframe tbody tr th:only-of-type {\n",
       "        vertical-align: middle;\n",
       "    }\n",
       "\n",
       "    .dataframe tbody tr th {\n",
       "        vertical-align: top;\n",
       "    }\n",
       "\n",
       "    .dataframe thead th {\n",
       "        text-align: right;\n",
       "    }\n",
       "</style>\n",
       "<table border=\"1\" class=\"dataframe\">\n",
       "  <thead>\n",
       "    <tr style=\"text-align: right;\">\n",
       "      <th></th>\n",
       "      <th>id</th>\n",
       "      <th>text</th>\n",
       "      <th>target</th>\n",
       "      <th>cluster</th>\n",
       "    </tr>\n",
       "  </thead>\n",
       "  <tbody>\n",
       "    <tr>\n",
       "      <th>5476</th>\n",
       "      <td>8543</td>\n",
       "      <td>@DaneMillar1 *screams 666*</td>\n",
       "      <td>0</td>\n",
       "      <td>3</td>\n",
       "    </tr>\n",
       "    <tr>\n",
       "      <th>5480</th>\n",
       "      <td>8550</td>\n",
       "      <td>*screams internally*</td>\n",
       "      <td>0</td>\n",
       "      <td>3</td>\n",
       "    </tr>\n",
       "    <tr>\n",
       "      <th>5481</th>\n",
       "      <td>8551</td>\n",
       "      <td>*screams*</td>\n",
       "      <td>0</td>\n",
       "      <td>3</td>\n",
       "    </tr>\n",
       "    <tr>\n",
       "      <th>5491</th>\n",
       "      <td>8567</td>\n",
       "      <td>@RealJaxClone *screams*</td>\n",
       "      <td>0</td>\n",
       "      <td>3</td>\n",
       "    </tr>\n",
       "    <tr>\n",
       "      <th>5508</th>\n",
       "      <td>8589</td>\n",
       "      <td>* Screams *</td>\n",
       "      <td>0</td>\n",
       "      <td>3</td>\n",
       "    </tr>\n",
       "  </tbody>\n",
       "</table>\n",
       "</div>"
      ],
      "text/plain": [
       "        id                        text  target  cluster\n",
       "5476  8543  @DaneMillar1 *screams 666*       0        3\n",
       "5480  8550        *screams internally*       0        3\n",
       "5481  8551                   *screams*       0        3\n",
       "5491  8567     @RealJaxClone *screams*       0        3\n",
       "5508  8589                 * Screams *       0        3"
      ]
     },
     "execution_count": 84,
     "metadata": {},
     "output_type": "execute_result"
    }
   ],
   "source": [
    "mapped_df[mapped_df['cluster'] == 3]"
   ]
  },
  {
   "cell_type": "code",
   "execution_count": 85,
   "metadata": {},
   "outputs": [
    {
     "data": {
      "text/html": [
       "<div>\n",
       "<style scoped>\n",
       "    .dataframe tbody tr th:only-of-type {\n",
       "        vertical-align: middle;\n",
       "    }\n",
       "\n",
       "    .dataframe tbody tr th {\n",
       "        vertical-align: top;\n",
       "    }\n",
       "\n",
       "    .dataframe thead th {\n",
       "        text-align: right;\n",
       "    }\n",
       "</style>\n",
       "<table border=\"1\" class=\"dataframe\">\n",
       "  <thead>\n",
       "    <tr style=\"text-align: right;\">\n",
       "      <th></th>\n",
       "      <th>id</th>\n",
       "      <th>text</th>\n",
       "      <th>target</th>\n",
       "      <th>cluster</th>\n",
       "    </tr>\n",
       "  </thead>\n",
       "  <tbody>\n",
       "    <tr>\n",
       "      <th>6477</th>\n",
       "      <td>10120</td>\n",
       "      <td>Ancient Mayan Tablet with Hieroglyphics Honors...</td>\n",
       "      <td>0</td>\n",
       "      <td>4</td>\n",
       "    </tr>\n",
       "    <tr>\n",
       "      <th>6483</th>\n",
       "      <td>10130</td>\n",
       "      <td>Ancient Mayan Tablet Found in Jungle Temple</td>\n",
       "      <td>1</td>\n",
       "      <td>4</td>\n",
       "    </tr>\n",
       "    <tr>\n",
       "      <th>6487</th>\n",
       "      <td>10140</td>\n",
       "      <td>RT '@LiveScience: Ancient Mayan Tablet with Hi...</td>\n",
       "      <td>0</td>\n",
       "      <td>4</td>\n",
       "    </tr>\n",
       "    <tr>\n",
       "      <th>6488</th>\n",
       "      <td>10141</td>\n",
       "      <td>Ancient Mayan Tablet with Hieroglyphics Honors...</td>\n",
       "      <td>0</td>\n",
       "      <td>4</td>\n",
       "    </tr>\n",
       "    <tr>\n",
       "      <th>6490</th>\n",
       "      <td>10143</td>\n",
       "      <td>Ancient Mayan Tablet found via</td>\n",
       "      <td>0</td>\n",
       "      <td>4</td>\n",
       "    </tr>\n",
       "  </tbody>\n",
       "</table>\n",
       "</div>"
      ],
      "text/plain": [
       "         id                                               text  target  \\\n",
       "6477  10120  Ancient Mayan Tablet with Hieroglyphics Honors...       0   \n",
       "6483  10130        Ancient Mayan Tablet Found in Jungle Temple       1   \n",
       "6487  10140  RT '@LiveScience: Ancient Mayan Tablet with Hi...       0   \n",
       "6488  10141  Ancient Mayan Tablet with Hieroglyphics Honors...       0   \n",
       "6490  10143                     Ancient Mayan Tablet found via       0   \n",
       "\n",
       "      cluster  \n",
       "6477        4  \n",
       "6483        4  \n",
       "6487        4  \n",
       "6488        4  \n",
       "6490        4  "
      ]
     },
     "execution_count": 85,
     "metadata": {},
     "output_type": "execute_result"
    }
   ],
   "source": [
    "mapped_df[mapped_df['cluster'] == 4]"
   ]
  },
  {
   "cell_type": "code",
   "execution_count": 88,
   "metadata": {},
   "outputs": [
    {
     "data": {
      "text/plain": [
       "['Ancient Mayan Tablet with Hieroglyphics Honors Lowly King',\n",
       " 'Ancient Mayan Tablet Found in Jungle Temple',\n",
       " \"RT '@LiveScience: Ancient Mayan Tablet with Hieroglyphics Honors Lowly King:\",\n",
       " 'Ancient Mayan Tablet with Hieroglyphics Honors Lowly King: A 1600-year-old Mayan stone tablet describing the ...',\n",
       " 'Ancient Mayan Tablet found via']"
      ]
     },
     "execution_count": 88,
     "metadata": {},
     "output_type": "execute_result"
    }
   ],
   "source": [
    "list(mapped_df[mapped_df['cluster'] == 4].text)"
   ]
  },
  {
   "cell_type": "markdown",
   "metadata": {},
   "source": [
    "Not really sure at this point if the targets have been assigned very well. The Mayan tablet really shouldn't be targetted as a natural diaster. On the bright side, DBSCAN is able to find similar tweets, but I believe the high dimensionality of the dataset is making it difficult to distinguish between a bulk of tweets. There are a few options from here:\n",
    "\n",
    "- scan doc similarity for all docs, plot and set a cutoff  --> would need to come up with rule for assigning targets\n",
    "- normalize the word vecs and try clustering\n",
    "- do PCA to reduce the dimensions of the data and try clustering again"
   ]
  },
  {
   "cell_type": "code",
   "execution_count": null,
   "metadata": {},
   "outputs": [],
   "source": []
  }
 ],
 "metadata": {
  "kernelspec": {
   "display_name": "Python 3",
   "language": "python",
   "name": "python3"
  },
  "language_info": {
   "codemirror_mode": {
    "name": "ipython",
    "version": 3
   },
   "file_extension": ".py",
   "mimetype": "text/x-python",
   "name": "python",
   "nbconvert_exporter": "python",
   "pygments_lexer": "ipython3",
   "version": "3.7.7"
  }
 },
 "nbformat": 4,
 "nbformat_minor": 4
}
